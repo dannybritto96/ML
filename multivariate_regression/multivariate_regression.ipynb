{
 "cells": [
  {
   "cell_type": "code",
   "execution_count": 42,
   "metadata": {},
   "outputs": [],
   "source": [
    "import pandas as pd\n",
    "\n",
    "data = pd.read_csv('airfoil_self_noise.dat',sep='\\t',names=['Frequency','Angle_of_Attack','Chord_Length','Free_stream_Velocity','Suction_side_displacement_thickness','Scaled sound pressure level'])"
   ]
  },
  {
   "cell_type": "code",
   "execution_count": 43,
   "metadata": {},
   "outputs": [
    {
     "data": {
      "text/html": [
       "<div>\n",
       "<style scoped>\n",
       "    .dataframe tbody tr th:only-of-type {\n",
       "        vertical-align: middle;\n",
       "    }\n",
       "\n",
       "    .dataframe tbody tr th {\n",
       "        vertical-align: top;\n",
       "    }\n",
       "\n",
       "    .dataframe thead th {\n",
       "        text-align: right;\n",
       "    }\n",
       "</style>\n",
       "<table border=\"1\" class=\"dataframe\">\n",
       "  <thead>\n",
       "    <tr style=\"text-align: right;\">\n",
       "      <th></th>\n",
       "      <th>Frequency</th>\n",
       "      <th>Angle_of_Attack</th>\n",
       "      <th>Chord_Length</th>\n",
       "      <th>Free_stream_Velocity</th>\n",
       "      <th>Suction_side_displacement_thickness</th>\n",
       "      <th>Scaled sound pressure level</th>\n",
       "    </tr>\n",
       "  </thead>\n",
       "  <tbody>\n",
       "    <tr>\n",
       "      <th>0</th>\n",
       "      <td>800</td>\n",
       "      <td>0.0</td>\n",
       "      <td>0.3048</td>\n",
       "      <td>71.3</td>\n",
       "      <td>0.002663</td>\n",
       "      <td>126.201</td>\n",
       "    </tr>\n",
       "    <tr>\n",
       "      <th>1</th>\n",
       "      <td>1000</td>\n",
       "      <td>0.0</td>\n",
       "      <td>0.3048</td>\n",
       "      <td>71.3</td>\n",
       "      <td>0.002663</td>\n",
       "      <td>125.201</td>\n",
       "    </tr>\n",
       "    <tr>\n",
       "      <th>2</th>\n",
       "      <td>1250</td>\n",
       "      <td>0.0</td>\n",
       "      <td>0.3048</td>\n",
       "      <td>71.3</td>\n",
       "      <td>0.002663</td>\n",
       "      <td>125.951</td>\n",
       "    </tr>\n",
       "    <tr>\n",
       "      <th>3</th>\n",
       "      <td>1600</td>\n",
       "      <td>0.0</td>\n",
       "      <td>0.3048</td>\n",
       "      <td>71.3</td>\n",
       "      <td>0.002663</td>\n",
       "      <td>127.591</td>\n",
       "    </tr>\n",
       "    <tr>\n",
       "      <th>4</th>\n",
       "      <td>2000</td>\n",
       "      <td>0.0</td>\n",
       "      <td>0.3048</td>\n",
       "      <td>71.3</td>\n",
       "      <td>0.002663</td>\n",
       "      <td>127.461</td>\n",
       "    </tr>\n",
       "  </tbody>\n",
       "</table>\n",
       "</div>"
      ],
      "text/plain": [
       "   Frequency  Angle_of_Attack  Chord_Length  Free_stream_Velocity  \\\n",
       "0        800              0.0        0.3048                  71.3   \n",
       "1       1000              0.0        0.3048                  71.3   \n",
       "2       1250              0.0        0.3048                  71.3   \n",
       "3       1600              0.0        0.3048                  71.3   \n",
       "4       2000              0.0        0.3048                  71.3   \n",
       "\n",
       "   Suction_side_displacement_thickness  Scaled sound pressure level  \n",
       "0                             0.002663                      126.201  \n",
       "1                             0.002663                      125.201  \n",
       "2                             0.002663                      125.951  \n",
       "3                             0.002663                      127.591  \n",
       "4                             0.002663                      127.461  "
      ]
     },
     "execution_count": 43,
     "metadata": {},
     "output_type": "execute_result"
    }
   ],
   "source": [
    "data.head()"
   ]
  },
  {
   "cell_type": "code",
   "execution_count": 44,
   "metadata": {},
   "outputs": [],
   "source": [
    "import statsmodels.api as sm\n",
    "from sklearn.preprocessing import StandardScaler\n",
    "scale = StandardScaler()"
   ]
  },
  {
   "cell_type": "code",
   "execution_count": 45,
   "metadata": {},
   "outputs": [],
   "source": [
    "X = data[['Frequency','Angle_of_Attack','Chord_Length','Free_stream_Velocity','Suction_side_displacement_thickness']]"
   ]
  },
  {
   "cell_type": "code",
   "execution_count": 46,
   "metadata": {},
   "outputs": [],
   "source": [
    "y = data['Scaled sound pressure level']"
   ]
  },
  {
   "cell_type": "code",
   "execution_count": 47,
   "metadata": {},
   "outputs": [
    {
     "name": "stderr",
     "output_type": "stream",
     "text": [
      "/Library/Frameworks/Python.framework/Versions/3.6/lib/python3.6/site-packages/ipykernel_launcher.py:1: SettingWithCopyWarning: \n",
      "A value is trying to be set on a copy of a slice from a DataFrame.\n",
      "Try using .loc[row_indexer,col_indexer] = value instead\n",
      "\n",
      "See the caveats in the documentation: http://pandas.pydata.org/pandas-docs/stable/indexing.html#indexing-view-versus-copy\n",
      "  \"\"\"Entry point for launching an IPython kernel.\n",
      "/Library/Frameworks/Python.framework/Versions/3.6/lib/python3.6/site-packages/pandas/core/indexing.py:537: SettingWithCopyWarning: \n",
      "A value is trying to be set on a copy of a slice from a DataFrame.\n",
      "Try using .loc[row_indexer,col_indexer] = value instead\n",
      "\n",
      "See the caveats in the documentation: http://pandas.pydata.org/pandas-docs/stable/indexing.html#indexing-view-versus-copy\n",
      "  self.obj[item] = s\n"
     ]
    }
   ],
   "source": [
    "X[['Frequency','Angle_of_Attack','Chord_Length','Free_stream_Velocity','Suction_side_displacement_thickness']] = scale.fit_transform(X[['Frequency','Angle_of_Attack','Chord_Length','Free_stream_Velocity','Suction_side_displacement_thickness']].as_matrix())"
   ]
  },
  {
   "cell_type": "code",
   "execution_count": 48,
   "metadata": {},
   "outputs": [
    {
     "name": "stdout",
     "output_type": "stream",
     "text": [
      "      Frequency  Angle_of_Attack  Chord_Length  Free_stream_Velocity  \\\n",
      "0     -0.662023        -1.146403      1.799299              1.312935   \n",
      "1     -0.598561        -1.146403      1.799299              1.312935   \n",
      "2     -0.519235        -1.146403      1.799299              1.312935   \n",
      "3     -0.408177        -1.146403      1.799299              1.312935   \n",
      "4     -0.281255        -1.146403      1.799299              1.312935   \n",
      "5     -0.122601        -1.146403      1.799299              1.312935   \n",
      "6      0.083648        -1.146403      1.799299              1.312935   \n",
      "7      0.353359        -1.146403      1.799299              1.312935   \n",
      "8      0.670666        -1.146403      1.799299              1.312935   \n",
      "9      1.083165        -1.146403      1.799299              1.312935   \n",
      "10     1.622586        -1.146403      1.799299              1.312935   \n",
      "11     2.257200        -1.146403      1.799299              1.312935   \n",
      "12     3.050467        -1.146403      1.799299              1.312935   \n",
      "13     4.161040        -1.146403      1.799299              1.312935   \n",
      "14    -0.757215        -1.146403      1.799299              0.298007   \n",
      "15    -0.715965        -1.146403      1.799299              0.298007   \n",
      "16    -0.662023        -1.146403      1.799299              0.298007   \n",
      "17    -0.598561        -1.146403      1.799299              0.298007   \n",
      "18    -0.519235        -1.146403      1.799299              0.298007   \n",
      "19    -0.408177        -1.146403      1.799299              0.298007   \n",
      "20    -0.281255        -1.146403      1.799299              0.298007   \n",
      "21    -0.122601        -1.146403      1.799299              0.298007   \n",
      "22     0.083648        -1.146403      1.799299              0.298007   \n",
      "23     0.353359        -1.146403      1.799299              0.298007   \n",
      "24     0.670666        -1.146403      1.799299              0.298007   \n",
      "25     1.083165        -1.146403      1.799299              0.298007   \n",
      "26     1.622586        -1.146403      1.799299              0.298007   \n",
      "27     2.257200        -1.146403      1.799299              0.298007   \n",
      "28     3.050467        -1.146403      1.799299              0.298007   \n",
      "29    -0.852407        -1.146403      1.799299             -0.723345   \n",
      "...         ...              ...           ...                   ...   \n",
      "1473  -0.852407         1.490443     -0.373740              1.312935   \n",
      "1474  -0.836541         1.490443     -0.373740              1.312935   \n",
      "1475  -0.815916         1.490443     -0.373740              1.312935   \n",
      "1476  -0.788945         1.490443     -0.373740              1.312935   \n",
      "1477  -0.757215         1.490443     -0.373740              1.312935   \n",
      "1478  -0.715965         1.490443     -0.373740              1.312935   \n",
      "1479  -0.662023         1.490443     -0.373740              1.312935   \n",
      "1480  -0.598561         1.490443     -0.373740              1.312935   \n",
      "1481  -0.519235         1.490443     -0.373740              1.312935   \n",
      "1482  -0.408177         1.490443     -0.373740              1.312935   \n",
      "1483  -0.281255         1.490443     -0.373740              1.312935   \n",
      "1484  -0.122601         1.490443     -0.373740              1.312935   \n",
      "1485   0.083648         1.490443     -0.373740              1.312935   \n",
      "1486   0.353359         1.490443     -0.373740              1.312935   \n",
      "1487  -0.852407         1.490443     -0.373740             -0.723345   \n",
      "1488  -0.836541         1.490443     -0.373740             -0.723345   \n",
      "1489  -0.815916         1.490443     -0.373740             -0.723345   \n",
      "1490  -0.788945         1.490443     -0.373740             -0.723345   \n",
      "1491  -0.757215         1.490443     -0.373740             -0.723345   \n",
      "1492  -0.715965         1.490443     -0.373740             -0.723345   \n",
      "1493  -0.662023         1.490443     -0.373740             -0.723345   \n",
      "1494  -0.598561         1.490443     -0.373740             -0.723345   \n",
      "1495  -0.519235         1.490443     -0.373740             -0.723345   \n",
      "1496  -0.408177         1.490443     -0.373740             -0.723345   \n",
      "1497  -0.281255         1.490443     -0.373740             -0.723345   \n",
      "1498  -0.122601         1.490443     -0.373740             -0.723345   \n",
      "1499   0.083648         1.490443     -0.373740             -0.723345   \n",
      "1500   0.353359         1.490443     -0.373740             -0.723345   \n",
      "1501   0.670666         1.490443     -0.373740             -0.723345   \n",
      "1502   1.083165         1.490443     -0.373740             -0.723345   \n",
      "\n",
      "      Suction_side_displacement_thickness  \n",
      "0                               -0.644805  \n",
      "1                               -0.644805  \n",
      "2                               -0.644805  \n",
      "3                               -0.644805  \n",
      "4                               -0.644805  \n",
      "5                               -0.644805  \n",
      "6                               -0.644805  \n",
      "7                               -0.644805  \n",
      "8                               -0.644805  \n",
      "9                               -0.644805  \n",
      "10                              -0.644805  \n",
      "11                              -0.644805  \n",
      "12                              -0.644805  \n",
      "13                              -0.644805  \n",
      "14                              -0.632068  \n",
      "15                              -0.632068  \n",
      "16                              -0.632068  \n",
      "17                              -0.632068  \n",
      "18                              -0.632068  \n",
      "19                              -0.632068  \n",
      "20                              -0.632068  \n",
      "21                              -0.632068  \n",
      "22                              -0.632068  \n",
      "23                              -0.632068  \n",
      "24                              -0.632068  \n",
      "25                              -0.632068  \n",
      "26                              -0.632068  \n",
      "27                              -0.632068  \n",
      "28                              -0.632068  \n",
      "29                              -0.611485  \n",
      "...                                   ...  \n",
      "1473                             2.478805  \n",
      "1474                             2.478805  \n",
      "1475                             2.478805  \n",
      "1476                             2.478805  \n",
      "1477                             2.478805  \n",
      "1478                             2.478805  \n",
      "1479                             2.478805  \n",
      "1480                             2.478805  \n",
      "1481                             2.478805  \n",
      "1482                             2.478805  \n",
      "1483                             2.478805  \n",
      "1484                             2.478805  \n",
      "1485                             2.478805  \n",
      "1486                             2.478805  \n",
      "1487                             3.172773  \n",
      "1488                             3.172773  \n",
      "1489                             3.172773  \n",
      "1490                             3.172773  \n",
      "1491                             3.172773  \n",
      "1492                             3.172773  \n",
      "1493                             3.172773  \n",
      "1494                             3.172773  \n",
      "1495                             3.172773  \n",
      "1496                             3.172773  \n",
      "1497                             3.172773  \n",
      "1498                             3.172773  \n",
      "1499                             3.172773  \n",
      "1500                             3.172773  \n",
      "1501                             3.172773  \n",
      "1502                             3.172773  \n",
      "\n",
      "[1503 rows x 5 columns]\n"
     ]
    }
   ],
   "source": [
    "print(X)"
   ]
  },
  {
   "cell_type": "code",
   "execution_count": 49,
   "metadata": {},
   "outputs": [
    {
     "data": {
      "text/html": [
       "<table class=\"simpletable\">\n",
       "<caption>OLS Regression Results</caption>\n",
       "<tr>\n",
       "  <th>Dep. Variable:</th>    <td>Scaled sound pressure level</td> <th>  R-squared:         </th> <td>   0.002</td> \n",
       "</tr>\n",
       "<tr>\n",
       "  <th>Model:</th>                        <td>OLS</td>             <th>  Adj. R-squared:    </th> <td>  -0.002</td> \n",
       "</tr>\n",
       "<tr>\n",
       "  <th>Method:</th>                  <td>Least Squares</td>        <th>  F-statistic:       </th> <td>  0.4708</td> \n",
       "</tr>\n",
       "<tr>\n",
       "  <th>Date:</th>                  <td>Sun, 04 Mar 2018</td>       <th>  Prob (F-statistic):</th>  <td> 0.798</td>  \n",
       "</tr>\n",
       "<tr>\n",
       "  <th>Time:</th>                      <td>16:42:15</td>           <th>  Log-Likelihood:    </th> <td> -9388.8</td> \n",
       "</tr>\n",
       "<tr>\n",
       "  <th>No. Observations:</th>           <td>  1503</td>            <th>  AIC:               </th> <td>1.879e+04</td>\n",
       "</tr>\n",
       "<tr>\n",
       "  <th>Df Residuals:</th>               <td>  1498</td>            <th>  BIC:               </th> <td>1.881e+04</td>\n",
       "</tr>\n",
       "<tr>\n",
       "  <th>Df Model:</th>                   <td>     5</td>            <th>                     </th>     <td> </td>    \n",
       "</tr>\n",
       "<tr>\n",
       "  <th>Covariance Type:</th>           <td>nonrobust</td>          <th>                     </th>     <td> </td>    \n",
       "</tr>\n",
       "</table>\n",
       "<table class=\"simpletable\">\n",
       "<tr>\n",
       "                   <td></td>                      <th>coef</th>     <th>std err</th>      <th>t</th>      <th>P>|t|</th>  <th>[0.025</th>    <th>0.975]</th>  \n",
       "</tr>\n",
       "<tr>\n",
       "  <th>Frequency</th>                           <td>   -4.0409</td> <td>    3.453</td> <td>   -1.170</td> <td> 0.242</td> <td>  -10.814</td> <td>    2.732</td>\n",
       "</tr>\n",
       "<tr>\n",
       "  <th>Angle_of_Attack</th>                     <td>   -2.4961</td> <td>    5.988</td> <td>   -0.417</td> <td> 0.677</td> <td>  -14.242</td> <td>    9.250</td>\n",
       "</tr>\n",
       "<tr>\n",
       "  <th>Chord_Length</th>                        <td>   -3.3372</td> <td>    3.967</td> <td>   -0.841</td> <td> 0.400</td> <td>  -11.119</td> <td>    4.445</td>\n",
       "</tr>\n",
       "<tr>\n",
       "  <th>Free_stream_Velocity</th>                <td>    1.5545</td> <td>    3.294</td> <td>    0.472</td> <td> 0.637</td> <td>   -4.908</td> <td>    8.017</td>\n",
       "</tr>\n",
       "<tr>\n",
       "  <th>Suction_side_displacement_thickness</th> <td>   -1.9364</td> <td>    5.136</td> <td>   -0.377</td> <td> 0.706</td> <td>  -12.011</td> <td>    8.139</td>\n",
       "</tr>\n",
       "</table>\n",
       "<table class=\"simpletable\">\n",
       "<tr>\n",
       "  <th>Omnibus:</th>       <td>12.947</td> <th>  Durbin-Watson:     </th> <td>   0.001</td>\n",
       "</tr>\n",
       "<tr>\n",
       "  <th>Prob(Omnibus):</th> <td> 0.002</td> <th>  Jarque-Bera (JB):  </th> <td>  19.228</td>\n",
       "</tr>\n",
       "<tr>\n",
       "  <th>Skew:</th>          <td>-0.020</td> <th>  Prob(JB):          </th> <td>6.68e-05</td>\n",
       "</tr>\n",
       "<tr>\n",
       "  <th>Kurtosis:</th>      <td> 3.553</td> <th>  Cond. No.          </th> <td>    3.48</td>\n",
       "</tr>\n",
       "</table>"
      ],
      "text/plain": [
       "<class 'statsmodels.iolib.summary.Summary'>\n",
       "\"\"\"\n",
       "                                 OLS Regression Results                                \n",
       "=======================================================================================\n",
       "Dep. Variable:     Scaled sound pressure level   R-squared:                       0.002\n",
       "Model:                                     OLS   Adj. R-squared:                 -0.002\n",
       "Method:                          Least Squares   F-statistic:                    0.4708\n",
       "Date:                         Sun, 04 Mar 2018   Prob (F-statistic):              0.798\n",
       "Time:                                 16:42:15   Log-Likelihood:                -9388.8\n",
       "No. Observations:                         1503   AIC:                         1.879e+04\n",
       "Df Residuals:                             1498   BIC:                         1.881e+04\n",
       "Df Model:                                    5                                         \n",
       "Covariance Type:                     nonrobust                                         \n",
       "=======================================================================================================\n",
       "                                          coef    std err          t      P>|t|      [0.025      0.975]\n",
       "-------------------------------------------------------------------------------------------------------\n",
       "Frequency                              -4.0409      3.453     -1.170      0.242     -10.814       2.732\n",
       "Angle_of_Attack                        -2.4961      5.988     -0.417      0.677     -14.242       9.250\n",
       "Chord_Length                           -3.3372      3.967     -0.841      0.400     -11.119       4.445\n",
       "Free_stream_Velocity                    1.5545      3.294      0.472      0.637      -4.908       8.017\n",
       "Suction_side_displacement_thickness    -1.9364      5.136     -0.377      0.706     -12.011       8.139\n",
       "==============================================================================\n",
       "Omnibus:                       12.947   Durbin-Watson:                   0.001\n",
       "Prob(Omnibus):                  0.002   Jarque-Bera (JB):               19.228\n",
       "Skew:                          -0.020   Prob(JB):                     6.68e-05\n",
       "Kurtosis:                       3.553   Cond. No.                         3.48\n",
       "==============================================================================\n",
       "\n",
       "Warnings:\n",
       "[1] Standard Errors assume that the covariance matrix of the errors is correctly specified.\n",
       "\"\"\""
      ]
     },
     "execution_count": 49,
     "metadata": {},
     "output_type": "execute_result"
    }
   ],
   "source": [
    "est = sm.OLS(y, X).fit()\n",
    "\n",
    "est.summary()"
   ]
  },
  {
   "cell_type": "code",
   "execution_count": 50,
   "metadata": {},
   "outputs": [
    {
     "data": {
      "text/plain": [
       "Chord_Length\n",
       "0.0254    127.019151\n",
       "0.0508    126.393506\n",
       "0.1016    125.926365\n",
       "0.1524    122.969458\n",
       "0.2286    124.064966\n",
       "0.3048    121.899995\n",
       "Name: Scaled sound pressure level, dtype: float64"
      ]
     },
     "execution_count": 50,
     "metadata": {},
     "output_type": "execute_result"
    }
   ],
   "source": [
    "y.groupby(data.Chord_Length).mean()"
   ]
  },
  {
   "cell_type": "code",
   "execution_count": 51,
   "metadata": {},
   "outputs": [
    {
     "data": {
      "text/plain": [
       "Free_stream_Velocity\n",
       "31.7    124.277665\n",
       "39.6    123.670200\n",
       "55.5    125.695838\n",
       "71.3    125.864419\n",
       "Name: Scaled sound pressure level, dtype: float64"
      ]
     },
     "execution_count": 51,
     "metadata": {},
     "output_type": "execute_result"
    }
   ],
   "source": [
    "y.groupby(data.Free_stream_Velocity).mean()"
   ]
  },
  {
   "cell_type": "code",
   "execution_count": 52,
   "metadata": {},
   "outputs": [
    {
     "data": {
      "text/plain": [
       "Frequency\n",
       "200      124.511171\n",
       "250      125.300524\n",
       "315      125.712321\n",
       "400      126.411058\n",
       "500      126.672897\n",
       "630      127.932216\n",
       "800      128.711536\n",
       "1000     128.584071\n",
       "1250     128.143870\n",
       "1600     126.815388\n",
       "2000     125.713771\n",
       "2500     124.952808\n",
       "3150     123.893388\n",
       "4000     122.254127\n",
       "5000     121.100968\n",
       "6300     119.322079\n",
       "8000     120.584462\n",
       "10000    118.593452\n",
       "12500    118.768840\n",
       "16000    118.068769\n",
       "20000    118.375667\n",
       "Name: Scaled sound pressure level, dtype: float64"
      ]
     },
     "execution_count": 52,
     "metadata": {},
     "output_type": "execute_result"
    }
   ],
   "source": [
    "y.groupby(data.Frequency).mean()"
   ]
  },
  {
   "cell_type": "code",
   "execution_count": 54,
   "metadata": {},
   "outputs": [
    {
     "data": {
      "text/plain": [
       "Angle_of_Attack\n",
       "0.0     126.501459\n",
       "1.5     120.235000\n",
       "2.0     124.155571\n",
       "2.7     123.587167\n",
       "3.0     122.373339\n",
       "3.3     127.885640\n",
       "4.0     123.410796\n",
       "4.2     128.018905\n",
       "4.8     128.477280\n",
       "5.3     124.240500\n",
       "5.4     125.230055\n",
       "6.7     131.112788\n",
       "7.2     123.592848\n",
       "7.3     124.404063\n",
       "8.4     127.193233\n",
       "8.9     128.008062\n",
       "9.5     127.961464\n",
       "9.9     122.279656\n",
       "11.2    129.043714\n",
       "12.3    121.711000\n",
       "12.6    115.522313\n",
       "12.7    127.137500\n",
       "15.4    123.492662\n",
       "15.6    119.633867\n",
       "17.4    122.531397\n",
       "19.7    120.933786\n",
       "22.2    124.498500\n",
       "Name: Scaled sound pressure level, dtype: float64"
      ]
     },
     "execution_count": 54,
     "metadata": {},
     "output_type": "execute_result"
    }
   ],
   "source": [
    "y.groupby(data.Angle_of_Attack).mean()"
   ]
  },
  {
   "cell_type": "code",
   "execution_count": 55,
   "metadata": {},
   "outputs": [
    {
     "data": {
      "text/plain": [
       "Suction_side_displacement_thickness\n",
       "0.000401    132.865000\n",
       "0.000412    131.193000\n",
       "0.000428    131.940545\n",
       "0.000439    132.414692\n",
       "0.000740    130.987692\n",
       "0.000762    130.098308\n",
       "0.000792    130.618000\n",
       "0.000812    129.154615\n",
       "0.000849    129.819818\n",
       "0.000873    128.541500\n",
       "0.000907    127.538143\n",
       "0.000931    128.293385\n",
       "0.001211    128.411429\n",
       "0.001320    128.329286\n",
       "0.001428    127.944000\n",
       "0.001463    128.330231\n",
       "0.001501    127.706846\n",
       "0.001527    128.087000\n",
       "0.001599    125.126286\n",
       "0.001727    124.473000\n",
       "0.001933    125.147286\n",
       "0.002028    128.925667\n",
       "0.002094    125.606231\n",
       "0.002143    122.855538\n",
       "0.002211    127.889769\n",
       "0.002293    124.580714\n",
       "0.002439    124.224000\n",
       "0.002451    126.807923\n",
       "0.002514    128.008667\n",
       "0.002535    125.336429\n",
       "               ...    \n",
       "0.012348    122.808375\n",
       "0.012460    126.026875\n",
       "0.013025    126.259353\n",
       "0.013267    120.818375\n",
       "0.014072    130.888857\n",
       "0.015048    127.198571\n",
       "0.016104    121.706588\n",
       "0.016571    120.286000\n",
       "0.017221    123.392667\n",
       "0.017663    125.000000\n",
       "0.019300    125.000250\n",
       "0.020844    122.846250\n",
       "0.021418    124.969000\n",
       "0.022903    124.028000\n",
       "0.023333    121.012500\n",
       "0.025278    120.259625\n",
       "0.026427    125.586765\n",
       "0.027193    125.104375\n",
       "0.028259    122.776750\n",
       "0.028985    120.371875\n",
       "0.033779    127.077375\n",
       "0.034118    120.985000\n",
       "0.036484    120.882571\n",
       "0.036823    123.838375\n",
       "0.040827    119.448750\n",
       "0.041876    116.479500\n",
       "0.043726    124.702286\n",
       "0.048316    119.615875\n",
       "0.052849    115.199000\n",
       "0.058411    111.428750\n",
       "Name: Scaled sound pressure level, Length: 105, dtype: float64"
      ]
     },
     "execution_count": 55,
     "metadata": {},
     "output_type": "execute_result"
    }
   ],
   "source": [
    "y.groupby(data.Suction_side_displacement_thickness).mean()"
   ]
  },
  {
   "cell_type": "markdown",
   "metadata": {},
   "source": [
    "Suction side displacement thickness influences the Scaled sound pressure level more than any other parameter."
   ]
  }
 ],
 "metadata": {
  "kernelspec": {
   "display_name": "Python 3",
   "language": "python",
   "name": "python3"
  },
  "language_info": {
   "codemirror_mode": {
    "name": "ipython",
    "version": 3
   },
   "file_extension": ".py",
   "mimetype": "text/x-python",
   "name": "python",
   "nbconvert_exporter": "python",
   "pygments_lexer": "ipython3",
   "version": "3.6.4"
  }
 },
 "nbformat": 4,
 "nbformat_minor": 2
}
